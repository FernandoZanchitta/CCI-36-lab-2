{
 "cells": [
  {
   "cell_type": "code",
   "execution_count": 10,
   "metadata": {},
   "outputs": [],
   "source": [
    "import json \n",
    "import os\n",
    "import sys\n",
    "import time\n",
    "import numpy as np"
   ]
  },
  {
   "cell_type": "code",
   "execution_count": 11,
   "metadata": {},
   "outputs": [],
   "source": [
    "f = open('face/face.json', 'r')\n",
    "data = json.load(f)\n",
    "f.close()\n"
   ]
  },
  {
   "cell_type": "code",
   "execution_count": 12,
   "metadata": {},
   "outputs": [],
   "source": [
    "#normal vector\n",
    "def normal_vector(x1, y1, z1, x2, y2, z2, x3, y3, z3):\n",
    "    x = (y2 - y1)*(z3 - z1) - (z2 - z1)*(y3 - y1)\n",
    "    y = (z2 - z1)*(x3 - x1) - (x2 - x1)*(z3 - z1)\n",
    "    z = (x2 - x1)*(y3 - y1) - (y2 - y1)*(x3 - x1)\n",
    "    return x, y, z\n",
    "\n",
    "for face in data:\n",
    "    x1 = face['vertices'][0]['vertice']['x']\n",
    "    y1 = face['vertices'][0]['vertice']['y']\n",
    "    z1 = face['vertices'][0]['vertice']['z']\n",
    "    x2 = face['vertices'][1]['vertice']['x']\n",
    "    y2 = face['vertices'][1]['vertice']['y']\n",
    "    z2 = face['vertices'][1]['vertice']['z']\n",
    "    x3 = face['vertices'][2]['vertice']['x']\n",
    "    y3 = face['vertices'][2]['vertice']['y']\n",
    "    z3 = face['vertices'][2]['vertice']['z']\n",
    "    x, y, z = normal_vector(x1, y1, z1, x2, y2, z2, x3, y3, z3)\n",
    "    face['normal'] = {'x': x, 'y': y, 'z': z}"
   ]
  },
  {
   "cell_type": "code",
   "execution_count": 14,
   "metadata": {},
   "outputs": [],
   "source": [
    "f_w = open('face/face.json', 'w')\n",
    "f_w.write(json.dumps(data))\n",
    "f_w.close()"
   ]
  },
  {
   "cell_type": "code",
   "execution_count": null,
   "metadata": {},
   "outputs": [],
   "source": []
  }
 ],
 "metadata": {
  "kernelspec": {
   "display_name": "Python 3.8.2 64-bit",
   "language": "python",
   "name": "python3"
  },
  "language_info": {
   "codemirror_mode": {
    "name": "ipython",
    "version": 3
   },
   "file_extension": ".py",
   "mimetype": "text/x-python",
   "name": "python",
   "nbconvert_exporter": "python",
   "pygments_lexer": "ipython3",
   "version": "3.8.2"
  },
  "orig_nbformat": 4,
  "vscode": {
   "interpreter": {
    "hash": "31f2aee4e71d21fbe5cf8b01ff0e069b9275f58929596ceb00d14d90e3e16cd6"
   }
  }
 },
 "nbformat": 4,
 "nbformat_minor": 2
}
