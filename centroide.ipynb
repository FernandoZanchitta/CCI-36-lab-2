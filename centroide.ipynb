{
 "cells": [
  {
   "cell_type": "code",
   "execution_count": 8,
   "metadata": {},
   "outputs": [],
   "source": [
    "import json"
   ]
  },
  {
   "cell_type": "markdown",
   "metadata": {},
   "source": [
    "#### Leitura do arquivo:"
   ]
  },
  {
   "cell_type": "code",
   "execution_count": 11,
   "metadata": {},
   "outputs": [],
   "source": [
    "f = open(\"face/face.json\")"
   ]
  },
  {
   "cell_type": "markdown",
   "metadata": {},
   "source": [
    "#### armazenando em um json"
   ]
  },
  {
   "cell_type": "code",
   "execution_count": 12,
   "metadata": {},
   "outputs": [
    {
     "data": {
      "text/plain": [
       "{'vertices': [{'vertice': {'x': -1, 'y': 0.7721158, 'z': 1},\n",
       "   'normal': 0,\n",
       "   'textura': 0,\n",
       "   'cor': {'r': 0.08588235, 'g': 0.06509804, 'b': 0.9, 'a': 1}},\n",
       "  {'vertice': {'x': -1, 'y': 1, 'z': 0},\n",
       "   'normal': 0,\n",
       "   'textura': 1,\n",
       "   'cor': {'r': 0.08588235, 'g': 0.06509804, 'b': 0.9, 'a': 1}},\n",
       "  {'vertice': {'x': -1, 'y': 0.7721158, 'z': -1},\n",
       "   'normal': 0,\n",
       "   'textura': 2,\n",
       "   'cor': {'r': 0.08588235, 'g': 0.06509804, 'b': 0.9, 'a': 1}}]}"
      ]
     },
     "execution_count": 12,
     "metadata": {},
     "output_type": "execute_result"
    }
   ],
   "source": [
    "data_array = json.loads(json.dumps(json.load(f)))\n",
    "f.close()\n",
    "data_array[0]"
   ]
  },
  {
   "cell_type": "markdown",
   "metadata": {},
   "source": [
    "#### Calcular um centroide:"
   ]
  },
  {
   "cell_type": "code",
   "execution_count": 15,
   "metadata": {},
   "outputs": [],
   "source": [
    "# Path: centroide.ipynb\n",
    "# calucular o centroide de cada face\n",
    "for face in data_array:\n",
    "    face[\"centroide\"] = {}\n",
    "    face[\"centroide\"][\"x\"] = (face[\"vertices\"][0][\"vertice\"][\"x\"] + face[\"vertices\"][1][\"vertice\"][\"x\"] + face[\"vertices\"][2][\"vertice\"][\"x\"]) / 3\n",
    "    face[\"centroide\"][\"y\"] = (face[\"vertices\"][0][\"vertice\"][\"y\"] + face[\"vertices\"][1][\"vertice\"][\"y\"] + face[\"vertices\"][2][\"vertice\"][\"y\"]) / 3\n",
    "    face[\"centroide\"][\"z\"] = (face[\"vertices\"][0][\"vertice\"][\"z\"] + face[\"vertices\"][1][\"vertice\"][\"z\"] + face[\"vertices\"][2][\"vertice\"][\"z\"]) / 3\n",
    "    "
   ]
  },
  {
   "cell_type": "code",
   "execution_count": 17,
   "metadata": {},
   "outputs": [
    {
     "data": {
      "text/plain": [
       "{'vertices': [{'vertice': {'x': -1, 'y': 0.7721158, 'z': 1},\n",
       "   'normal': 0,\n",
       "   'textura': 0,\n",
       "   'cor': {'r': 0.08588235, 'g': 0.06509804, 'b': 0.9, 'a': 1}},\n",
       "  {'vertice': {'x': -1, 'y': 1, 'z': 0},\n",
       "   'normal': 0,\n",
       "   'textura': 1,\n",
       "   'cor': {'r': 0.08588235, 'g': 0.06509804, 'b': 0.9, 'a': 1}},\n",
       "  {'vertice': {'x': -1, 'y': 0.7721158, 'z': -1},\n",
       "   'normal': 0,\n",
       "   'textura': 2,\n",
       "   'cor': {'r': 0.08588235, 'g': 0.06509804, 'b': 0.9, 'a': 1}}],\n",
       " 'centroide': {'x': -1.0, 'y': 0.8480772, 'z': 0.0}}"
      ]
     },
     "execution_count": 17,
     "metadata": {},
     "output_type": "execute_result"
    }
   ],
   "source": [
    "data_array[0]"
   ]
  },
  {
   "cell_type": "code",
   "execution_count": 18,
   "metadata": {},
   "outputs": [],
   "source": [
    "#escrever o arquivo\n",
    "f_w = open(\"face/face.json\", \"w\")\n",
    "f_w.write(json.dumps(data_array))\n",
    "f_w.close()\n"
   ]
  },
  {
   "cell_type": "code",
   "execution_count": null,
   "metadata": {},
   "outputs": [],
   "source": []
  }
 ],
 "metadata": {
  "kernelspec": {
   "display_name": "Python 3.8.2 64-bit",
   "language": "python",
   "name": "python3"
  },
  "language_info": {
   "codemirror_mode": {
    "name": "ipython",
    "version": 3
   },
   "file_extension": ".py",
   "mimetype": "text/x-python",
   "name": "python",
   "nbconvert_exporter": "python",
   "pygments_lexer": "ipython3",
   "version": "3.8.2"
  },
  "orig_nbformat": 4,
  "vscode": {
   "interpreter": {
    "hash": "31f2aee4e71d21fbe5cf8b01ff0e069b9275f58929596ceb00d14d90e3e16cd6"
   }
  }
 },
 "nbformat": 4,
 "nbformat_minor": 2
}
